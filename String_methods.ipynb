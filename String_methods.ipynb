{
 "cells": [
  {
   "cell_type": "markdown",
   "id": "a5901be5",
   "metadata": {},
   "source": [
    "# WAP to reverse the given string"
   ]
  },
  {
   "cell_type": "code",
   "execution_count": 32,
   "id": "f55d1f74",
   "metadata": {},
   "outputs": [
    {
     "name": "stdout",
     "output_type": "stream",
     "text": [
      "nohtyP\n"
     ]
    }
   ],
   "source": [
    "#method 1. USING SLICING\n",
    "s = 'Python'\n",
    "s1 = s[::-1]\n",
    "print(s1)"
   ]
  },
  {
   "cell_type": "code",
   "execution_count": 33,
   "id": "6a492e07",
   "metadata": {},
   "outputs": [
    {
     "name": "stdout",
     "output_type": "stream",
     "text": [
      "nohtyP\n"
     ]
    }
   ],
   "source": [
    "#Method 2. USING REVERSED() FUNCTION\n",
    "s = 'Python'\n",
    "s1 = list(reversed(s))\n",
    "s2 = ''.join(s1)\n",
    "print(s2)"
   ]
  },
  {
   "cell_type": "code",
   "execution_count": 34,
   "id": "80a2ecd5",
   "metadata": {},
   "outputs": [
    {
     "name": "stdout",
     "output_type": "stream",
     "text": [
      "nohtyP\n"
     ]
    }
   ],
   "source": [
    "#Method 3. USING WHILE LOOP\n",
    "s = 'Python'\n",
    "output = ''\n",
    "i = len(s) -1\n",
    "while(i >= 0):\n",
    "    output = output +s [i]\n",
    "    i = i -1\n",
    "print(output)"
   ]
  },
  {
   "cell_type": "code",
   "execution_count": 35,
   "id": "d803d260",
   "metadata": {},
   "outputs": [
    {
     "name": "stdout",
     "output_type": "stream",
     "text": [
      "nohtyPnohtyP\n"
     ]
    }
   ],
   "source": [
    "#Method 4. USING for LOOP\n",
    "s = 'Python'\n",
    "for i in range((len(s)-1),-1,-1):\n",
    "    output = output +s [i]\n",
    "print(output)"
   ]
  },
  {
   "cell_type": "markdown",
   "id": "c1c74103",
   "metadata": {},
   "source": [
    "# WAP to reverse words in string"
   ]
  },
  {
   "cell_type": "code",
   "execution_count": 36,
   "id": "a564f438",
   "metadata": {},
   "outputs": [
    {
     "name": "stdout",
     "output_type": "stream",
     "text": [
      "easyisPython\n"
     ]
    }
   ],
   "source": [
    "s = 'Python is easy'\n",
    "s1 = s.split()\n",
    "s2 = s1[::-1]\n",
    "s3 = ''.join(s2)\n",
    "print(s3) "
   ]
  },
  {
   "cell_type": "markdown",
   "id": "00a78fb9",
   "metadata": {},
   "source": [
    "# WAP to reverse lrtter of words"
   ]
  },
  {
   "cell_type": "code",
   "execution_count": 37,
   "id": "18c07a8f",
   "metadata": {},
   "outputs": [
    {
     "name": "stdout",
     "output_type": "stream",
     "text": [
      "nohtyP si ysae\n"
     ]
    }
   ],
   "source": [
    "s = 'Python is easy'\n",
    "l = s.split()\n",
    "l1 = []\n",
    "for word in l:\n",
    "    l1.append(word[::-1])\n",
    "s1 = ' '.join(l1)\n",
    "print(s1)"
   ]
  },
  {
   "cell_type": "markdown",
   "id": "d36fb53a",
   "metadata": {},
   "source": [
    "# WAP to delete i'th charecter from string"
   ]
  },
  {
   "cell_type": "code",
   "execution_count": 38,
   "id": "c19903ec",
   "metadata": {},
   "outputs": [
    {
     "name": "stdout",
     "output_type": "stream",
     "text": [
      "Enter the string:python\n",
      "Enter the charecter to remove:y\n",
      "pthon\n"
     ]
    }
   ],
   "source": [
    "s = input(\"Enter the string:\")\n",
    "key = input(\"Enter the charecter to remove:\")\n",
    "s1 = ''\n",
    "for i in range(len(s)):\n",
    "    if (s[i] != key):\n",
    "        s1 = s1 + s[i]\n",
    "print(s1)"
   ]
  },
  {
   "cell_type": "markdown",
   "id": "f3ecc45a",
   "metadata": {},
   "source": [
    "# WAP to count perticular charecter in string"
   ]
  },
  {
   "cell_type": "code",
   "execution_count": 40,
   "id": "82000311",
   "metadata": {},
   "outputs": [
    {
     "name": "stdout",
     "output_type": "stream",
     "text": [
      "Enter the string:python\n",
      "Enter the charectero\n",
      "o occurs 1 times\n"
     ]
    }
   ],
   "source": [
    "s = input(\"Enter the string:\")\n",
    "key = input(\"Enter the charecter\")\n",
    "count = 0\n",
    "for i in range (len(s)):\n",
    "    if (s[i] == key):\n",
    "        count = count + 1\n",
    "print(key,\"occurs\",count,\"times\")"
   ]
  },
  {
   "cell_type": "markdown",
   "id": "9a1160ba",
   "metadata": {},
   "source": [
    "# WAP to print even length words"
   ]
  },
  {
   "cell_type": "code",
   "execution_count": 41,
   "id": "a9fe2347",
   "metadata": {},
   "outputs": [
    {
     "name": "stdout",
     "output_type": "stream",
     "text": [
      "Enter the string:karmveer\n",
      "karmveer\n"
     ]
    }
   ],
   "source": [
    "s = input(\"Enter the string:\")\n",
    "s1 = s.split()\n",
    "for i in s1:\n",
    "    if (len(i) % 2 == 0):\n",
    "        print(i)"
   ]
  },
  {
   "cell_type": "markdown",
   "id": "2e678f7f",
   "metadata": {},
   "source": [
    "# WAP to capitalize first and last word of string"
   ]
  },
  {
   "cell_type": "code",
   "execution_count": 44,
   "id": "a3f896c3",
   "metadata": {},
   "outputs": [
    {
     "name": "stdout",
     "output_type": "stream",
     "text": [
      "Enter the string:python\n",
      "PythoN\n"
     ]
    }
   ],
   "source": [
    "# Method 1. Using slicing and concatination\n",
    "s = input(\"Enter the string:\")\n",
    "s1 = s[0].upper() +s[1:-1] + s[-1].upper()\n",
    "print(s1)"
   ]
  },
  {
   "cell_type": "code",
   "execution_count": 49,
   "id": "4082041b",
   "metadata": {},
   "outputs": [
    {
     "name": "stdout",
     "output_type": "stream",
     "text": [
      "Enter the string:python\n",
      "PythoN\n"
     ]
    }
   ],
   "source": [
    "# Method 2. Using map function\n",
    "s = input(\"Enter the string:\")\n",
    "def fname():\n",
    "        return ''.join(map(lambda s:s[:-1] + s[-1].upper(),s.title().split()))\n",
    "print(fname())"
   ]
  },
  {
   "cell_type": "markdown",
   "id": "30a45ed9",
   "metadata": {},
   "source": [
    "# WAP to print half string upper case and half string lower case"
   ]
  },
  {
   "cell_type": "code",
   "execution_count": 55,
   "id": "e7fce161",
   "metadata": {},
   "outputs": [
    {
     "name": "stdout",
     "output_type": "stream",
     "text": [
      "Enter the string:rushikesh\n",
      " rushIKESH\n"
     ]
    }
   ],
   "source": [
    "s = input(\"Enter the string:\")\n",
    "a = len(s) // 2\n",
    "s1 = ' '\n",
    "for i in range(len(s)):\n",
    "    if (i>=a):\n",
    "        s1 = s1 +  s[i].upper()\n",
    "    else:\n",
    "        s1 = s1 + s[i]\n",
    "print(s1)"
   ]
  },
  {
   "cell_type": "markdown",
   "id": "bb4c6b1d",
   "metadata": {},
   "source": [
    "# WAP to check given string is symmetrical or not"
   ]
  },
  {
   "cell_type": "code",
   "execution_count": 58,
   "id": "bfe8f2c3",
   "metadata": {},
   "outputs": [
    {
     "name": "stdout",
     "output_type": "stream",
     "text": [
      "Enter the string:karmveer\n",
      "Given string is not symmetrical\n"
     ]
    }
   ],
   "source": [
    "s = input('Enter the string:')\n",
    "a = len(s) // 2\n",
    "s1 = ''\n",
    "s2 = ''\n",
    "for i in range(len(s)):\n",
    "    if (i >= a):\n",
    "        s1 = s1 + s[i]\n",
    "for i in range(len(s)):\n",
    "    if (i < a):\n",
    "        s2 = s2 + s[i]\n",
    "if (s1 == s2):\n",
    "    print(\"Given string is symmetrical\")\n",
    "else:\n",
    "    print(\"Given string is not symmetrical\")"
   ]
  },
  {
   "cell_type": "markdown",
   "id": "5e1a35aa",
   "metadata": {},
   "source": [
    "# WAP to check given string is palindrome or not"
   ]
  },
  {
   "cell_type": "code",
   "execution_count": 62,
   "id": "634136a7",
   "metadata": {},
   "outputs": [
    {
     "name": "stdout",
     "output_type": "stream",
     "text": [
      "Enter the string:radar\n",
      "Given string is palindrome\n"
     ]
    }
   ],
   "source": [
    "s = input(\"Enter the string:\")\n",
    "s1 = s[::-1]\n",
    "if (s == s1):\n",
    "    print(\"Given string is palindrome\")\n",
    "else:\n",
    "    print(\"Given string is not palindrome\")"
   ]
  },
  {
   "cell_type": "markdown",
   "id": "b1a55fed",
   "metadata": {},
   "source": [
    "# WAP to reverse word at odd index"
   ]
  },
  {
   "cell_type": "code",
   "execution_count": 2,
   "id": "b13addd5",
   "metadata": {},
   "outputs": [
    {
     "name": "stdout",
     "output_type": "stream",
     "text": [
      "Enter the string:sushant\n",
      "sushant\n"
     ]
    }
   ],
   "source": [
    "s = input(\"Enter the string:\")\n",
    "l = s.split()\n",
    "l1 = []\n",
    "i = 0 \n",
    "while(i < len(l)):\n",
    "    if(i % 2== 0):\n",
    "        l1.append(l[i])\n",
    "    else:\n",
    "        l1.append(l[i][::-1])\n",
    "    i = i + 1\n",
    "output = ' '.join(l1)\n",
    "print(output)"
   ]
  },
  {
   "cell_type": "markdown",
   "id": "9e068e54",
   "metadata": {},
   "source": [
    "# WAP to print word at odd and even index "
   ]
  },
  {
   "cell_type": "code",
   "execution_count": 4,
   "id": "efe8bc4c",
   "metadata": {},
   "outputs": [
    {
     "name": "stdout",
     "output_type": "stream",
     "text": [
      "Enter the string:karmveer\n",
      "karmveer\n"
     ]
    }
   ],
   "source": [
    "s = input(\"Enter the string:\")\n",
    "l = s.split()\n",
    "l1 = []\n",
    "i = 0 \n",
    "while(i < len(l)):\n",
    "    if(i % 2== 0):\n",
    "        l1.append(l[i])\n",
    "    i = i + 1\n",
    "output = ' '.join(l1)\n",
    "print(output)"
   ]
  },
  {
   "cell_type": "markdown",
   "id": "4ee9ff8d",
   "metadata": {},
   "source": [
    "# WAP to print charecter present at odd and even index"
   ]
  },
  {
   "cell_type": "code",
   "execution_count": 8,
   "id": "d4150fb9",
   "metadata": {},
   "outputs": [
    {
     "name": "stdout",
     "output_type": "stream",
     "text": [
      "Enter the string:czekeslovakia\n",
      "charecter present at even index\n",
      "c\n",
      "z\n",
      "e\n",
      "k\n",
      "e\n",
      "s\n",
      "l\n",
      "o\n",
      "v\n",
      "a\n",
      "k\n",
      "i\n",
      "a\n",
      "charecter present at odd index\n",
      "z\n",
      "k\n",
      "s\n",
      "o\n",
      "a\n",
      "i\n",
      "Enter the string:czekeslovakia\n",
      "charecter present at even index: ceelvka\n",
      "charecter present at odd index: zksoai\n"
     ]
    }
   ],
   "source": [
    "s = input(\"Enter the string:\")\n",
    "i = 0\n",
    "print(\"charecter present at even index\")\n",
    "while(i < len(s)):\n",
    "    print(s[i])\n",
    "    i = i + 1\n",
    "i = 1\n",
    "print(\"charecter present at odd index\")\n",
    "while(i < len(s)):\n",
    "    print(s[i])\n",
    "    i = i + 2\n",
    "s = input(\"Enter the string:\")\n",
    "print(\"charecter present at even index:\",s[::2])\n",
    "print(\"charecter present at odd index:\",s[1::2])"
   ]
  },
  {
   "cell_type": "markdown",
   "id": "22e38428",
   "metadata": {},
   "source": [
    "# WAP to sort alphabets and digits from given string"
   ]
  },
  {
   "cell_type": "code",
   "execution_count": 13,
   "id": "dbf0327b",
   "metadata": {},
   "outputs": [
    {
     "ename": "TypeError",
     "evalue": "can only concatenate str (not \"list\") to str",
     "output_type": "error",
     "traceback": [
      "\u001b[1;31m---------------------------------------------------------------------------\u001b[0m",
      "\u001b[1;31mTypeError\u001b[0m                                 Traceback (most recent call last)",
      "\u001b[1;32m~\\AppData\\Local\\Temp/ipykernel_14652/483743487.py\u001b[0m in \u001b[0;36m<module>\u001b[1;34m\u001b[0m\n\u001b[0;32m      7\u001b[0m     \u001b[1;32melse\u001b[0m\u001b[1;33m:\u001b[0m\u001b[1;33m\u001b[0m\u001b[1;33m\u001b[0m\u001b[0m\n\u001b[0;32m      8\u001b[0m         \u001b[0mdigits\u001b[0m\u001b[1;33m.\u001b[0m\u001b[0mappend\u001b[0m\u001b[1;33m(\u001b[0m\u001b[0mch\u001b[0m\u001b[1;33m)\u001b[0m\u001b[1;33m\u001b[0m\u001b[1;33m\u001b[0m\u001b[0m\n\u001b[1;32m----> 9\u001b[1;33m \u001b[0moutput\u001b[0m \u001b[1;33m=\u001b[0m \u001b[1;34m''\u001b[0m\u001b[1;33m.\u001b[0m\u001b[0mjoin\u001b[0m\u001b[1;33m(\u001b[0m\u001b[0msorted\u001b[0m\u001b[1;33m(\u001b[0m\u001b[0malphabets\u001b[0m\u001b[1;33m)\u001b[0m\u001b[1;33m)\u001b[0m \u001b[1;33m+\u001b[0m \u001b[0msorted\u001b[0m\u001b[1;33m(\u001b[0m\u001b[0mdigits\u001b[0m\u001b[1;33m)\u001b[0m\u001b[1;33m\u001b[0m\u001b[1;33m\u001b[0m\u001b[0m\n\u001b[0m\u001b[0;32m     10\u001b[0m \u001b[0mprint\u001b[0m\u001b[1;33m(\u001b[0m\u001b[0moutput\u001b[0m\u001b[1;33m)\u001b[0m\u001b[1;33m\u001b[0m\u001b[1;33m\u001b[0m\u001b[0m\n",
      "\u001b[1;31mTypeError\u001b[0m: can only concatenate str (not \"list\") to str"
     ]
    }
   ],
   "source": [
    "s = 'B2A1C3'\n",
    "alphabets = []\n",
    "digits = []\n",
    "for ch in s:\n",
    "    if ch.isalpha():\n",
    "        alphabets.append(ch)\n",
    "    else:\n",
    "        digits.append(ch)\n",
    "output = ''.join(sorted(alphabets)) + sorted(digits)\n",
    "print(output)"
   ]
  },
  {
   "cell_type": "markdown",
   "id": "2d10b740",
   "metadata": {},
   "source": [
    "# WAP of following\n",
    "# INPUT : A4C2B3D1\n",
    "# OUTPUT : AAAABBBCCD"
   ]
  },
  {
   "cell_type": "code",
   "execution_count": 16,
   "id": "f34a516f",
   "metadata": {},
   "outputs": [
    {
     "name": "stdout",
     "output_type": "stream",
     "text": [
      "AAAABBBCCD\n"
     ]
    }
   ],
   "source": [
    "s = 'A4C2B3D1'\n",
    "output = ''\n",
    "for ch in s:\n",
    "    if ch.isalpha():\n",
    "        x = ch\n",
    "    else :\n",
    "        d = int(ch)\n",
    "        output = output + (x*d)\n",
    "output1 = ''.join(sorted(output))\n",
    "print(output1)"
   ]
  },
  {
   "cell_type": "code",
   "execution_count": null,
   "id": "0b57c667",
   "metadata": {},
   "outputs": [],
   "source": []
  }
 ],
 "metadata": {
  "kernelspec": {
   "display_name": "Python 3 (ipykernel)",
   "language": "python",
   "name": "python3"
  },
  "language_info": {
   "codemirror_mode": {
    "name": "ipython",
    "version": 3
   },
   "file_extension": ".py",
   "mimetype": "text/x-python",
   "name": "python",
   "nbconvert_exporter": "python",
   "pygments_lexer": "ipython3",
   "version": "3.9.7"
  }
 },
 "nbformat": 4,
 "nbformat_minor": 5
}
